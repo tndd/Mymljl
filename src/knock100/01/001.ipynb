{
 "cells": [
  {
   "cell_type": "code",
   "execution_count": 4,
   "metadata": {},
   "outputs": [
    {
     "data": {
      "text/html": [
       "<div><div style = \"float: left;\"><span>5×9 DataFrame</span></div><div style = \"clear: both;\"></div></div><div class = \"data-frame\" style = \"overflow-x: scroll;\"><table class = \"data-frame\" style = \"margin-bottom: 6px;\"><thead><tr class = \"header\"><th class = \"rowNumber\" style = \"font-weight: bold; text-align: right;\">Row</th><th style = \"text-align: left;\">customer_id</th><th style = \"text-align: left;\">customer_name</th><th style = \"text-align: left;\">registration_date</th><th style = \"text-align: left;\">customer_name_kana</th><th style = \"text-align: left;\">email</th><th style = \"text-align: left;\">gender</th><th style = \"text-align: left;\">age</th><th style = \"text-align: left;\">birth</th><th style = \"text-align: left;\">pref</th></tr><tr class = \"subheader headerLastRow\"><th class = \"rowNumber\" style = \"font-weight: bold; text-align: right;\"></th><th title = \"String15\" style = \"text-align: left;\">String15</th><th title = \"String31\" style = \"text-align: left;\">String31</th><th title = \"String31\" style = \"text-align: left;\">String31</th><th title = \"String\" style = \"text-align: left;\">String</th><th title = \"String\" style = \"text-align: left;\">String</th><th title = \"String1\" style = \"text-align: left;\">String1</th><th title = \"Int64\" style = \"text-align: left;\">Int64</th><th title = \"String15\" style = \"text-align: left;\">String15</th><th title = \"String15\" style = \"text-align: left;\">String15</th></tr></thead><tbody><tr><td class = \"rowNumber\" style = \"font-weight: bold; text-align: right;\">1</td><td style = \"text-align: left;\">IK152942</td><td style = \"text-align: left;\">平田 裕次郎</td><td style = \"text-align: left;\">2019-01-01 00:25:33</td><td style = \"text-align: left;\">ひらた ゆうじろう</td><td style = \"text-align: left;\">hirata_yuujirou@example.com</td><td style = \"text-align: left;\">M</td><td style = \"text-align: right;\">29</td><td style = \"text-align: left;\">1990/6/10</td><td style = \"text-align: left;\">石川県</td></tr><tr><td class = \"rowNumber\" style = \"font-weight: bold; text-align: right;\">2</td><td style = \"text-align: left;\">TS808488</td><td style = \"text-align: left;\">田村 詩織</td><td style = \"text-align: left;\">2019-01-01 01:13:45</td><td style = \"text-align: left;\">たむら しおり</td><td style = \"text-align: left;\">tamura_shiori@example.com</td><td style = \"text-align: left;\">F</td><td style = \"text-align: right;\">33</td><td style = \"text-align: left;\">1986/5/20</td><td style = \"text-align: left;\">東京都</td></tr><tr><td class = \"rowNumber\" style = \"font-weight: bold; text-align: right;\">3</td><td style = \"text-align: left;\">AS834628</td><td style = \"text-align: left;\">久野 由樹</td><td style = \"text-align: left;\">2019-01-01 02:00:14</td><td style = \"text-align: left;\">ひさの ゆき</td><td style = \"text-align: left;\">hisano_yuki@example.com</td><td style = \"text-align: left;\">F</td><td style = \"text-align: right;\">63</td><td style = \"text-align: left;\">1956/1/2</td><td style = \"text-align: left;\">茨城県</td></tr><tr><td class = \"rowNumber\" style = \"font-weight: bold; text-align: right;\">4</td><td style = \"text-align: left;\">AS345469</td><td style = \"text-align: left;\">鶴岡 薫</td><td style = \"text-align: left;\">2019-01-01 04:48:22</td><td style = \"text-align: left;\">つるおか かおる</td><td style = \"text-align: left;\">tsuruoka_kaoru@example.com</td><td style = \"text-align: left;\">M</td><td style = \"text-align: right;\">74</td><td style = \"text-align: left;\">1945/3/25</td><td style = \"text-align: left;\">東京都</td></tr><tr><td class = \"rowNumber\" style = \"font-weight: bold; text-align: right;\">5</td><td style = \"text-align: left;\">GD892565</td><td style = \"text-align: left;\">大内 高史</td><td style = \"text-align: left;\">2019-01-01 04:54:51</td><td style = \"text-align: left;\">おおうち たかし</td><td style = \"text-align: left;\">oouchi_takashi@example.com</td><td style = \"text-align: left;\">M</td><td style = \"text-align: right;\">54</td><td style = \"text-align: left;\">1965/8/5</td><td style = \"text-align: left;\">千葉県</td></tr></tbody></table></div>"
      ],
      "text/latex": [
       "\\begin{tabular}{r|cccccc}\n",
       "\t& customer\\_id & customer\\_name & registration\\_date & customer\\_name\\_kana & email & \\\\\n",
       "\t\\hline\n",
       "\t& String15 & String31 & String31 & String & String & \\\\\n",
       "\t\\hline\n",
       "\t1 & IK152942 & 平田 裕次郎 & 2019-01-01 00:25:33 & ひらた ゆうじろう & hirata\\_yuujirou@example.com & $\\dots$ \\\\\n",
       "\t2 & TS808488 & 田村 詩織 & 2019-01-01 01:13:45 & たむら しおり & tamura\\_shiori@example.com & $\\dots$ \\\\\n",
       "\t3 & AS834628 & 久野 由樹 & 2019-01-01 02:00:14 & ひさの ゆき & hisano\\_yuki@example.com & $\\dots$ \\\\\n",
       "\t4 & AS345469 & 鶴岡 薫 & 2019-01-01 04:48:22 & つるおか かおる & tsuruoka\\_kaoru@example.com & $\\dots$ \\\\\n",
       "\t5 & GD892565 & 大内 高史 & 2019-01-01 04:54:51 & おおうち たかし & oouchi\\_takashi@example.com & $\\dots$ \\\\\n",
       "\\end{tabular}\n"
      ],
      "text/plain": [
       "\u001b[1m5×9 DataFrame\u001b[0m\n",
       "\u001b[1m Row \u001b[0m│\u001b[1m customer_id \u001b[0m\u001b[1m customer_name \u001b[0m\u001b[1m registration_date   \u001b[0m\u001b[1m customer_name_kana \u001b[0m\u001b[1m em\u001b[0m ⋯\n",
       "     │\u001b[90m String15    \u001b[0m\u001b[90m String31      \u001b[0m\u001b[90m String31            \u001b[0m\u001b[90m String             \u001b[0m\u001b[90m St\u001b[0m ⋯\n",
       "─────┼──────────────────────────────────────────────────────────────────────────\n",
       "   1 │ IK152942     平田 裕次郎    2019-01-01 00:25:33  ひらた ゆうじろう   hi ⋯\n",
       "   2 │ TS808488     田村 詩織      2019-01-01 01:13:45  たむら しおり       ta\n",
       "   3 │ AS834628     久野 由樹      2019-01-01 02:00:14  ひさの ゆき         hi\n",
       "   4 │ AS345469     鶴岡 薫        2019-01-01 04:48:22  つるおか かおる     ts\n",
       "   5 │ GD892565     大内 高史      2019-01-01 04:54:51  おおうち たかし     oo ⋯\n",
       "\u001b[36m                                                               5 columns omitted\u001b[0m"
      ]
     },
     "execution_count": 4,
     "metadata": {},
     "output_type": "execute_result"
    }
   ],
   "source": [
    "using CSV\n",
    "using DataFrames\n",
    "\n",
    "df = CSV.read(\"customer_master.csv\", DataFrame)\n",
    "first(df, 5)"
   ]
  },
  {
   "cell_type": "code",
   "execution_count": null,
   "metadata": {},
   "outputs": [],
   "source": []
  }
 ],
 "metadata": {
  "kernelspec": {
   "display_name": "Julia 1.11.2",
   "language": "julia",
   "name": "julia-1.11"
  },
  "language_info": {
   "file_extension": ".jl",
   "mimetype": "application/julia",
   "name": "julia",
   "version": "1.11.2"
  }
 },
 "nbformat": 4,
 "nbformat_minor": 2
}
