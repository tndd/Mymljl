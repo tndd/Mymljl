{
 "cells": [
  {
   "cell_type": "code",
   "execution_count": 1,
   "metadata": {},
   "outputs": [
    {
     "data": {
      "text/html": [
       "<div><div style = \"float: left;\"><span>1000×4 DataFrame</span></div><div style = \"float: right;\"><span style = \"font-style: italic;\">975 rows omitted</span></div><div style = \"clear: both;\"></div></div><div class = \"data-frame\" style = \"overflow-x: scroll;\"><table class = \"data-frame\" style = \"margin-bottom: 6px;\"><thead><tr class = \"header\"><th class = \"rowNumber\" style = \"font-weight: bold; text-align: right;\">Row</th><th style = \"text-align: left;\">DaysSinceLastActivity</th><th style = \"text-align: left;\">HasActivePromotionalOffer</th><th style = \"text-align: left;\">AverageSessionDuration</th><th style = \"text-align: left;\">IsChurned</th></tr><tr class = \"subheader headerLastRow\"><th class = \"rowNumber\" style = \"font-weight: bold; text-align: right;\"></th><th title = \"Float64\" style = \"text-align: left;\">Float64</th><th title = \"Int64\" style = \"text-align: left;\">Int64</th><th title = \"Float64\" style = \"text-align: left;\">Float64</th><th title = \"Int64\" style = \"text-align: left;\">Int64</th></tr></thead><tbody><tr><td class = \"rowNumber\" style = \"font-weight: bold; text-align: right;\">1</td><td style = \"text-align: right;\">3.98981</td><td style = \"text-align: right;\">0</td><td style = \"text-align: right;\">39.2601</td><td style = \"text-align: right;\">0</td></tr><tr><td class = \"rowNumber\" style = \"font-weight: bold; text-align: right;\">2</td><td style = \"text-align: right;\">10.9716</td><td style = \"text-align: right;\">1</td><td style = \"text-align: right;\">63.3856</td><td style = \"text-align: right;\">0</td></tr><tr><td class = \"rowNumber\" style = \"font-weight: bold; text-align: right;\">3</td><td style = \"text-align: right;\">11.5288</td><td style = \"text-align: right;\">1</td><td style = \"text-align: right;\">29.2988</td><td style = \"text-align: right;\">0</td></tr><tr><td class = \"rowNumber\" style = \"font-weight: bold; text-align: right;\">4</td><td style = \"text-align: right;\">0.321822</td><td style = \"text-align: right;\">0</td><td style = \"text-align: right;\">37.8862</td><td style = \"text-align: right;\">0</td></tr><tr><td class = \"rowNumber\" style = \"font-weight: bold; text-align: right;\">5</td><td style = \"text-align: right;\">9.85267</td><td style = \"text-align: right;\">0</td><td style = \"text-align: right;\">59.4333</td><td style = \"text-align: right;\">0</td></tr><tr><td class = \"rowNumber\" style = \"font-weight: bold; text-align: right;\">6</td><td style = \"text-align: right;\">14.8615</td><td style = \"text-align: right;\">1</td><td style = \"text-align: right;\">41.3992</td><td style = \"text-align: right;\">0</td></tr><tr><td class = \"rowNumber\" style = \"font-weight: bold; text-align: right;\">7</td><td style = \"text-align: right;\">44.6938</td><td style = \"text-align: right;\">1</td><td style = \"text-align: right;\">32.2437</td><td style = \"text-align: right;\">1</td></tr><tr><td class = \"rowNumber\" style = \"font-weight: bold; text-align: right;\">8</td><td style = \"text-align: right;\">3.13866</td><td style = \"text-align: right;\">0</td><td style = \"text-align: right;\">25.0432</td><td style = \"text-align: right;\">0</td></tr><tr><td class = \"rowNumber\" style = \"font-weight: bold; text-align: right;\">9</td><td style = \"text-align: right;\">10.0571</td><td style = \"text-align: right;\">1</td><td style = \"text-align: right;\">26.825</td><td style = \"text-align: right;\">0</td></tr><tr><td class = \"rowNumber\" style = \"font-weight: bold; text-align: right;\">10</td><td style = \"text-align: right;\">16.6652</td><td style = \"text-align: right;\">0</td><td style = \"text-align: right;\">64.126</td><td style = \"text-align: right;\">0</td></tr><tr><td class = \"rowNumber\" style = \"font-weight: bold; text-align: right;\">11</td><td style = \"text-align: right;\">12.8787</td><td style = \"text-align: right;\">0</td><td style = \"text-align: right;\">39.1824</td><td style = \"text-align: right;\">0</td></tr><tr><td class = \"rowNumber\" style = \"font-weight: bold; text-align: right;\">12</td><td style = \"text-align: right;\">9.09421</td><td style = \"text-align: right;\">1</td><td style = \"text-align: right;\">9.03468</td><td style = \"text-align: right;\">0</td></tr><tr><td class = \"rowNumber\" style = \"font-weight: bold; text-align: right;\">13</td><td style = \"text-align: right;\">15.4688</td><td style = \"text-align: right;\">1</td><td style = \"text-align: right;\">23.692</td><td style = \"text-align: right;\">0</td></tr><tr><td style = \"text-align: right;\">&vellip;</td><td style = \"text-align: right;\">&vellip;</td><td style = \"text-align: right;\">&vellip;</td><td style = \"text-align: right;\">&vellip;</td><td style = \"text-align: right;\">&vellip;</td></tr><tr><td class = \"rowNumber\" style = \"font-weight: bold; text-align: right;\">989</td><td style = \"text-align: right;\">1.4701</td><td style = \"text-align: right;\">0</td><td style = \"text-align: right;\">8.66291</td><td style = \"text-align: right;\">0</td></tr><tr><td class = \"rowNumber\" style = \"font-weight: bold; text-align: right;\">990</td><td style = \"text-align: right;\">10.0213</td><td style = \"text-align: right;\">0</td><td style = \"text-align: right;\">36.8474</td><td style = \"text-align: right;\">0</td></tr><tr><td class = \"rowNumber\" style = \"font-weight: bold; text-align: right;\">991</td><td style = \"text-align: right;\">17.9428</td><td style = \"text-align: right;\">1</td><td style = \"text-align: right;\">25.2227</td><td style = \"text-align: right;\">0</td></tr><tr><td class = \"rowNumber\" style = \"font-weight: bold; text-align: right;\">992</td><td style = \"text-align: right;\">9.41387</td><td style = \"text-align: right;\">0</td><td style = \"text-align: right;\">50.2403</td><td style = \"text-align: right;\">0</td></tr><tr><td class = \"rowNumber\" style = \"font-weight: bold; text-align: right;\">993</td><td style = \"text-align: right;\">1.12733</td><td style = \"text-align: right;\">0</td><td style = \"text-align: right;\">12.8268</td><td style = \"text-align: right;\">0</td></tr><tr><td class = \"rowNumber\" style = \"font-weight: bold; text-align: right;\">994</td><td style = \"text-align: right;\">21.3714</td><td style = \"text-align: right;\">1</td><td style = \"text-align: right;\">16.3711</td><td style = \"text-align: right;\">0</td></tr><tr><td class = \"rowNumber\" style = \"font-weight: bold; text-align: right;\">995</td><td style = \"text-align: right;\">4.44331</td><td style = \"text-align: right;\">1</td><td style = \"text-align: right;\">22.4858</td><td style = \"text-align: right;\">0</td></tr><tr><td class = \"rowNumber\" style = \"font-weight: bold; text-align: right;\">996</td><td style = \"text-align: right;\">13.6163</td><td style = \"text-align: right;\">1</td><td style = \"text-align: right;\">16.0191</td><td style = \"text-align: right;\">0</td></tr><tr><td class = \"rowNumber\" style = \"font-weight: bold; text-align: right;\">997</td><td style = \"text-align: right;\">3.62058</td><td style = \"text-align: right;\">1</td><td style = \"text-align: right;\">18.8062</td><td style = \"text-align: right;\">0</td></tr><tr><td class = \"rowNumber\" style = \"font-weight: bold; text-align: right;\">998</td><td style = \"text-align: right;\">6.18547</td><td style = \"text-align: right;\">0</td><td style = \"text-align: right;\">20.4663</td><td style = \"text-align: right;\">0</td></tr><tr><td class = \"rowNumber\" style = \"font-weight: bold; text-align: right;\">999</td><td style = \"text-align: right;\">9.68644</td><td style = \"text-align: right;\">1</td><td style = \"text-align: right;\">67.917</td><td style = \"text-align: right;\">0</td></tr><tr><td class = \"rowNumber\" style = \"font-weight: bold; text-align: right;\">1000</td><td style = \"text-align: right;\">12.5478</td><td style = \"text-align: right;\">1</td><td style = \"text-align: right;\">3.52226</td><td style = \"text-align: right;\">0</td></tr></tbody></table></div>"
      ],
      "text/latex": [
       "\\begin{tabular}{r|cccc}\n",
       "\t& DaysSinceLastActivity & HasActivePromotionalOffer & AverageSessionDuration & IsChurned\\\\\n",
       "\t\\hline\n",
       "\t& Float64 & Int64 & Float64 & Int64\\\\\n",
       "\t\\hline\n",
       "\t1 & 3.98981 & 0 & 39.2601 & 0 \\\\\n",
       "\t2 & 10.9716 & 1 & 63.3856 & 0 \\\\\n",
       "\t3 & 11.5288 & 1 & 29.2988 & 0 \\\\\n",
       "\t4 & 0.321822 & 0 & 37.8862 & 0 \\\\\n",
       "\t5 & 9.85267 & 0 & 59.4333 & 0 \\\\\n",
       "\t6 & 14.8615 & 1 & 41.3992 & 0 \\\\\n",
       "\t7 & 44.6938 & 1 & 32.2437 & 1 \\\\\n",
       "\t8 & 3.13866 & 0 & 25.0432 & 0 \\\\\n",
       "\t9 & 10.0571 & 1 & 26.825 & 0 \\\\\n",
       "\t10 & 16.6652 & 0 & 64.126 & 0 \\\\\n",
       "\t11 & 12.8787 & 0 & 39.1824 & 0 \\\\\n",
       "\t12 & 9.09421 & 1 & 9.03468 & 0 \\\\\n",
       "\t13 & 15.4688 & 1 & 23.692 & 0 \\\\\n",
       "\t14 & 0.987242 & 1 & 26.8226 & 0 \\\\\n",
       "\t15 & 16.3082 & 0 & 44.1612 & 0 \\\\\n",
       "\t16 & 13.0641 & 0 & 20.7889 & 0 \\\\\n",
       "\t17 & 11.0342 & 1 & 50.6124 & 0 \\\\\n",
       "\t18 & 5.51686 & 1 & 25.1812 & 0 \\\\\n",
       "\t19 & 6.48897 & 1 & 63.1646 & 0 \\\\\n",
       "\t20 & 12.9087 & 0 & 37.0835 & 0 \\\\\n",
       "\t21 & 8.59557 & 1 & 37.1335 & 0 \\\\\n",
       "\t22 & 1.04489 & 0 & 23.515 & 0 \\\\\n",
       "\t23 & 13.057 & 0 & 28.4578 & 0 \\\\\n",
       "\t24 & 3.22215 & 1 & 10.1492 & 0 \\\\\n",
       "\t$\\dots$ & $\\dots$ & $\\dots$ & $\\dots$ & $\\dots$ \\\\\n",
       "\\end{tabular}\n"
      ],
      "text/plain": [
       "\u001b[1m1000×4 DataFrame\u001b[0m\n",
       "\u001b[1m  Row \u001b[0m│\u001b[1m DaysSinceLastActivity \u001b[0m\u001b[1m HasActivePromotionalOffer \u001b[0m\u001b[1m AverageSessionDurati\u001b[0m ⋯\n",
       "      │\u001b[90m Float64               \u001b[0m\u001b[90m Int64                     \u001b[0m\u001b[90m Float64             \u001b[0m ⋯\n",
       "──────┼─────────────────────────────────────────────────────────────────────────\n",
       "    1 │              3.98981                           0                39.260 ⋯\n",
       "    2 │             10.9716                            1                63.385\n",
       "    3 │             11.5288                            1                29.298\n",
       "    4 │              0.321822                          0                37.886\n",
       "    5 │              9.85267                           0                59.433 ⋯\n",
       "    6 │             14.8615                            1                41.399\n",
       "    7 │             44.6938                            1                32.243\n",
       "    8 │              3.13866                           0                25.043\n",
       "  ⋮   │           ⋮                        ⋮                        ⋮          ⋱\n",
       "  994 │             21.3714                            1                16.371 ⋯\n",
       "  995 │              4.44331                           1                22.485\n",
       "  996 │             13.6163                            1                16.019\n",
       "  997 │              3.62058                           1                18.806\n",
       "  998 │              6.18547                           0                20.466 ⋯\n",
       "  999 │              9.68644                           1                67.917\n",
       " 1000 │             12.5478                            1                 3.522\n",
       "\u001b[36m                                                  2 columns and 985 rows omitted\u001b[0m"
      ]
     },
     "metadata": {},
     "output_type": "display_data"
    }
   ],
   "source": [
    "using CSV\n",
    "using DataFrames\n",
    "\n",
    "# CSVファイルを読み込む\n",
    "df = CSV.read(\"streaming.csv\", DataFrame)"
   ]
  },
  {
   "cell_type": "code",
   "execution_count": 2,
   "metadata": {},
   "outputs": [
    {
     "data": {
      "text/plain": [
       "1000×3 Matrix{Float64}:\n",
       "  3.98981   0.0  39.2601\n",
       " 10.9716    1.0  63.3856\n",
       " 11.5288    1.0  29.2988\n",
       "  0.321822  0.0  37.8862\n",
       "  9.85267   0.0  59.4333\n",
       " 14.8615    1.0  41.3992\n",
       " 44.6938    1.0  32.2437\n",
       "  3.13866   0.0  25.0432\n",
       " 10.0571    1.0  26.825\n",
       " 16.6652    0.0  64.126\n",
       "  ⋮              \n",
       "  9.41387   0.0  50.2403\n",
       "  1.12733   0.0  12.8268\n",
       " 21.3714    1.0  16.3711\n",
       "  4.44331   1.0  22.4858\n",
       " 13.6163    1.0  16.0191\n",
       "  3.62058   1.0  18.8062\n",
       "  6.18547   0.0  20.4663\n",
       "  9.68644   1.0  67.917\n",
       " 12.5478    1.0   3.52226"
      ]
     },
     "metadata": {},
     "output_type": "display_data"
    },
    {
     "data": {
      "text/plain": [
       "1000-element Vector{Int64}:\n",
       " 0\n",
       " 0\n",
       " 0\n",
       " 0\n",
       " 0\n",
       " 0\n",
       " 1\n",
       " 0\n",
       " 0\n",
       " 0\n",
       " ⋮\n",
       " 0\n",
       " 0\n",
       " 0\n",
       " 0\n",
       " 0\n",
       " 0\n",
       " 0\n",
       " 0\n",
       " 0"
      ]
     },
     "metadata": {},
     "output_type": "display_data"
    },
    {
     "name": "stderr",
     "output_type": "stream",
     "text": [
      "┌ Info: lib_lightgbm found in system dirs!\n",
      "└ @ LightGBM /Users/tau/.julia/packages/LightGBM/z8ahL/src/LightGBM.jl:32\n"
     ]
    }
   ],
   "source": [
    "using LightGBM\n",
    "\n",
    "# Separate features (X) and target (y)\n",
    "X = Matrix(df[:, Not(:IsChurned)])\n",
    "display(X)\n",
    "y = df.IsChurned\n",
    "display(y)"
   ]
  },
  {
   "cell_type": "code",
   "execution_count": 3,
   "metadata": {},
   "outputs": [
    {
     "name": "stdout",
     "output_type": "stream",
     "text": [
      "[LightGBM] [Warning] Accuracy may be bad since you didn't explicitly set num_leaves OR 2^max_depth > num_leaves. (num_leaves=31).\n",
      "[LightGBM] [Warning] Accuracy may be bad since you didn't explicitly set num_leaves OR 2^max_depth > num_leaves. (num_leaves=31).\n",
      "[LightGBM] [Info] Number of positive: 100, number of negative: 900\n",
      "[LightGBM] [Warning] Auto-choosing col-wise multi-threading, the overhead of testing was 0.000415 seconds.\n",
      "You can set `force_col_wise=true` to remove the overhead.\n",
      "[LightGBM] [Info] Total Bins 512\n",
      "[LightGBM] [Info] Number of data points in the train set: 1000, number of used features: 3\n",
      "[LightGBM] [Info] [binary:BoostFromScore]: pavg=0.100000 -> initscore=-2.197225\n",
      "[LightGBM] [Info] Start training from score -2.197225\n",
      "[LightGBM] [Warning] No further splits with positive gain, best gain: -inf\n",
      "[LightGBM] [Warning] No further splits with positive gain, best gain: -inf\n",
      "[LightGBM] [Warning] No further splits with positive gain, best gain: -inf\n",
      "[LightGBM] [Warning] No further splits with positive gain, best gain: -inf\n",
      "[LightGBM] [Warning] No further splits with positive gain, best gain: -inf\n",
      "[LightGBM] [Warning] No further splits with positive gain, best gain: -inf\n",
      "[LightGBM] [Warning] No further splits with positive gain, best gain: -inf\n",
      "[LightGBM] [Warning] No further splits with positive gain, best gain: -inf\n",
      "[LightGBM] [Warning] No further splits with positive gain, best gain: -inf\n",
      "[LightGBM] [Warning] No further splits with positive gain, best gain: -inf\n",
      "[LightGBM] [Warning] No further splits with positive gain, best gain: -inf\n",
      "[LightGBM] [Warning] No further splits with positive gain, best gain: -inf\n",
      "[LightGBM] [Warning] No further splits with positive gain, best gain: -inf\n",
      "[LightGBM] [Warning] No further splits with positive gain, best gain: -inf\n",
      "[LightGBM] [Warning] No further splits with positive gain, best gain: -inf\n",
      "[LightGBM] [Warning] No further splits with positive gain, best gain: -inf\n",
      "[LightGBM] [Warning] No further splits with positive gain, best gain: -inf\n",
      "[LightGBM] [Warning] No further splits with positive gain, best gain: -inf\n",
      "[LightGBM] [Warning] No further splits with positive gain, best gain: -inf\n",
      "[LightGBM] [Warning] No further splits with positive gain, best gain: -inf\n",
      "[LightGBM] [Warning] No further splits with positive gain, best gain: -inf\n",
      "[LightGBM] [Warning] No further splits with positive gain, best gain: -inf\n",
      "[LightGBM] [Warning] No further splits with positive gain, best gain: -inf\n",
      "[LightGBM] [Warning] No further splits with positive gain, best gain: -inf\n",
      "[LightGBM] [Warning] No further splits with positive gain, best gain: -inf\n",
      "[LightGBM] [Warning] No further splits with positive gain, best gain: -inf\n",
      "[LightGBM] [Warning] No further splits with positive gain, best gain: -inf\n",
      "[LightGBM] [Warning] No further splits with positive gain, best gain: -inf\n",
      "[LightGBM] [Warning] No further splits with positive gain, best gain: -inf\n",
      "[LightGBM] [Warning] No further splits with positive gain, best gain: -inf\n",
      "[LightGBM] [Warning] No further splits with positive gain, best gain: -inf\n",
      "[LightGBM] [Warning] No further splits with positive gain, best gain: -inf\n",
      "[LightGBM] [Warning] No further splits with positive gain, best gain: -inf\n",
      "[LightGBM] [Warning] No further splits with positive gain, best gain: -inf\n",
      "[LightGBM] [Warning] No further splits with positive gain, best gain: -inf\n",
      "[LightGBM] [Warning] No further splits with positive gain, best gain: -inf\n",
      "[LightGBM] [Warning] No further splits with positive gain, best gain: -inf\n",
      "[LightGBM] [Warning] No further splits with positive gain, best gain: -inf\n",
      "[LightGBM] [Warning] No further splits with positive gain, best gain: -inf\n",
      "[LightGBM] [Warning] No further splits with positive gain, best gain: -inf\n",
      "[LightGBM] [Warning] No further splits with positive gain, best gain: -inf\n",
      "[LightGBM] [Warning] No further splits with positive gain, best gain: -inf\n",
      "[LightGBM] [Warning] No further splits with positive gain, best gain: -inf\n",
      "[LightGBM] [Warning] No further splits with positive gain, best gain: -inf\n",
      "[LightGBM] [Warning] No further splits with positive gain, best gain: -inf\n",
      "[LightGBM] [Warning] No further splits with positive gain, best gain: -inf\n",
      "[LightGBM] [Warning] No further splits with positive gain, best gain: -inf\n",
      "[LightGBM] [Warning] No further splits with positive gain, best gain: -inf\n",
      "[LightGBM] [Warning] No further splits with positive gain, best gain: -inf\n",
      "[LightGBM] [Warning] No further splits with positive gain, best gain: -inf\n",
      "[LightGBM] [Warning] No further splits with positive gain, best gain: -inf\n",
      "[LightGBM] [Warning] No further splits with positive gain, best gain: -inf\n",
      "[LightGBM] [Warning] No further splits with positive gain, best gain: -inf\n",
      "[LightGBM] [Warning] No further splits with positive gain, best gain: -inf\n",
      "[LightGBM] [Warning] No further splits with positive gain, best gain: -inf\n",
      "[LightGBM] [Warning] No further splits with positive gain, best gain: -inf\n",
      "[LightGBM] [Warning] No further splits with positive gain, best gain: -inf\n",
      "[LightGBM] [Warning] No further splits with positive gain, best gain: -inf\n",
      "[LightGBM] [Warning] No further splits with positive gain, best gain: -inf\n",
      "[LightGBM] [Warning] No further splits with positive gain, best gain: -inf\n",
      "[LightGBM] [Warning] No further splits with positive gain, best gain: -inf\n",
      "[LightGBM] [Warning] No further splits with positive gain, best gain: -inf\n",
      "[LightGBM] [Warning] No further splits with positive gain, best gain: -inf\n",
      "[LightGBM] [Warning] No further splits with positive gain, best gain: -inf\n",
      "[LightGBM] [Warning] No further splits with positive gain, best gain: -inf\n",
      "[LightGBM] [Warning] No further splits with positive gain, best gain: -inf\n",
      "[LightGBM] [Warning] No further splits with positive gain, best gain: -inf\n",
      "[LightGBM] [Warning] No further splits with positive gain, best gain: -inf\n",
      "[LightGBM] [Warning] No further splits with positive gain, best gain: -inf\n",
      "[LightGBM] [Warning] No further splits with positive gain, best gain: -inf\n",
      "[LightGBM] [Warning] No further splits with positive gain, best gain: -inf\n",
      "[LightGBM] [Warning] No further splits with positive gain, best gain: -inf\n",
      "[LightGBM] [Warning] No further splits with positive gain, best gain: -inf\n",
      "[LightGBM] [Warning] No further splits with positive gain, best gain: -inf\n",
      "[LightGBM] [Warning] No further splits with positive gain, best gain: -inf\n",
      "[LightGBM] [Warning] No further splits with positive gain, best gain: -inf\n",
      "[LightGBM] [Warning] No further splits with positive gain, best gain: -inf\n",
      "[LightGBM] [Warning] No further splits with positive gain, best gain: -inf\n",
      "[LightGBM] [Warning] No further splits with positive gain, best gain: -inf\n",
      "[LightGBM] [Warning] No further splits with positive gain, best gain: -inf\n",
      "[LightGBM] [Warning] No further splits with positive gain, best gain: -inf\n",
      "[LightGBM] [Warning] No further splits with positive gain, best gain: -inf\n",
      "[LightGBM] [Warning] No further splits with positive gain, best gain: -inf\n",
      "[LightGBM] [Warning] No further splits with positive gain, best gain: -inf\n",
      "[LightGBM] [Warning] No further splits with positive gain, best gain: -inf\n",
      "[LightGBM] [Warning] No further splits with positive gain, best gain: -inf\n",
      "[LightGBM] [Warning] No further splits with positive gain, best gain: -inf\n",
      "[LightGBM] [Warning] No further splits with positive gain, best gain: -inf\n",
      "[LightGBM] [Warning] No further splits with positive gain, best gain: -inf\n",
      "[LightGBM] [Warning] No further splits with positive gain, best gain: -inf\n",
      "[LightGBM] [Warning] No further splits with positive gain, best gain: -inf\n",
      "[LightGBM] [Warning] No further splits with positive gain, best gain: -inf\n",
      "[LightGBM] [Warning] No further splits with positive gain, best gain: -inf\n",
      "[LightGBM] [Warning] No further splits with positive gain, best gain: -inf\n",
      "[LightGBM] [Warning] No further splits with positive gain, best gain: -inf\n",
      "[LightGBM] [Warning] No further splits with positive gain, best gain: -inf\n",
      "[LightGBM] [Warning] No further splits with positive gain, best gain: -inf\n",
      "[LightGBM] [Warning] No further splits with positive gain, best gain: -inf\n",
      "[LightGBM] [Warning] No further splits with positive gain, best gain: -inf\n",
      "[LightGBM] [Warning] No further splits with positive gain, best gain: -inf\n"
     ]
    },
    {
     "data": {
      "text/plain": [
       "Dict{String, Any} with 2 entries:\n",
       "  \"metrics\"   => Dict{String, Dict{String, Vector{Float64}}}()\n",
       "  \"best_iter\" => 0"
      ]
     },
     "metadata": {},
     "output_type": "display_data"
    }
   ],
   "source": [
    "# Create LightGBM classifier\n",
    "estimator = LGBMClassification(\n",
    "    # 基本的なパラメータ\n",
    "    objective = \"binary\",           # 二値分類タスクを指定\n",
    "    num_iterations = 100,           # ブースティングの反復回数（木の数）\n",
    "    learning_rate = 0.05,          # 学習率（各木の寄与度）\n",
    "    num_class = 1,                 # クラス数（二値分類なので1）\n",
    "\n",
    "    # 過学習制御パラメータ\n",
    "    num_leaves = 31,               # 1つの木における最大葉ノード数\n",
    "    max_depth = 6,                 # 木の最大深さ\n",
    "    min_data_in_leaf = 20,        # 各葉に必要な最小データ数\n",
    "    feature_fraction = 0.8,        # 各反復で使用する特徴量の割合\n",
    "    bagging_fraction = 0.9,        # データのサブサンプリング割合\n",
    "    bagging_freq = 1,             # バギングの頻度\n",
    "\n",
    "    # 評価関連パラメータ\n",
    "    metric = [\"auc\", \"binary_logloss\"],  # 評価指標\n",
    "    early_stopping_round = 10,     # 性能改善が止まった時の早期停止\n",
    "\n",
    "    # クラス不均衡対策\n",
    "    scale_pos_weight = 9           # 正例の重み付け\n",
    ")\n",
    "\n",
    "# Train the model\n",
    "fit!(estimator, X, y)\n"
   ]
  },
  {
   "cell_type": "code",
   "execution_count": 4,
   "metadata": {},
   "outputs": [
    {
     "name": "stdout",
     "output_type": "stream",
     "text": [
      "Accuracy: 0.926\n"
     ]
    }
   ],
   "source": [
    "# Make predictions\n",
    "y_pred = predict(estimator, X) # Predict probabilities\n",
    "\n",
    "# Convert probabilities to binary predictions if needed\n",
    "y_pred_binary = [p > 0.5 ? 1 : 0 for p in y_pred]\n",
    "\n",
    "# Evaluate the model (example: accuracy)\n",
    "accuracy = sum(y_pred_binary .== y) / length(y)\n",
    "println(\"Accuracy: \", accuracy)"
   ]
  },
  {
   "cell_type": "code",
   "execution_count": 5,
   "metadata": {},
   "outputs": [
    {
     "data": {
      "text/plain": [
       "(split = [468.0, 138.0, 1159.0], gain = [11285.25046489579, 760.1471841270813, 4897.8169114071425])"
      ]
     },
     "metadata": {},
     "output_type": "display_data"
    }
   ],
   "source": [
    "# Get feature importance\n",
    "# Option 1: Split importance (number of times features are used in splits)\n",
    "importance_split = LightGBM.split_importance(estimator)\n",
    "\n",
    "# Option 2: Gain importance (total gains of splits)\n",
    "importance_gain = LightGBM.gain_importance(estimator)\n",
    "\n",
    "# Or get both at once\n",
    "importance = (\n",
    "    split = LightGBM.split_importance(estimator),\n",
    "    gain = LightGBM.gain_importance(estimator)\n",
    ")"
   ]
  },
  {
   "cell_type": "code",
   "execution_count": 6,
   "metadata": {},
   "outputs": [
    {
     "name": "stdout",
     "output_type": "stream",
     "text": [
      "Feature Importance:\n"
     ]
    },
    {
     "data": {
      "text/html": [
       "<div><div style = \"float: left;\"><span>3×3 DataFrame</span></div><div style = \"clear: both;\"></div></div><div class = \"data-frame\" style = \"overflow-x: scroll;\"><table class = \"data-frame\" style = \"margin-bottom: 6px;\"><thead><tr class = \"header\"><th class = \"rowNumber\" style = \"font-weight: bold; text-align: right;\">Row</th><th style = \"text-align: left;\">feature</th><th style = \"text-align: left;\">split_importance</th><th style = \"text-align: left;\">gain_importance</th></tr><tr class = \"subheader headerLastRow\"><th class = \"rowNumber\" style = \"font-weight: bold; text-align: right;\"></th><th title = \"String\" style = \"text-align: left;\">String</th><th title = \"Float64\" style = \"text-align: left;\">Float64</th><th title = \"Float64\" style = \"text-align: left;\">Float64</th></tr></thead><tbody><tr><td class = \"rowNumber\" style = \"font-weight: bold; text-align: right;\">1</td><td style = \"text-align: left;\">DaysSinceLastActivity</td><td style = \"text-align: right;\">468.0</td><td style = \"text-align: right;\">11285.3</td></tr><tr><td class = \"rowNumber\" style = \"font-weight: bold; text-align: right;\">2</td><td style = \"text-align: left;\">HasActivePromotionalOffer</td><td style = \"text-align: right;\">138.0</td><td style = \"text-align: right;\">760.147</td></tr><tr><td class = \"rowNumber\" style = \"font-weight: bold; text-align: right;\">3</td><td style = \"text-align: left;\">AverageSessionDuration</td><td style = \"text-align: right;\">1159.0</td><td style = \"text-align: right;\">4897.82</td></tr></tbody></table></div>"
      ],
      "text/latex": [
       "\\begin{tabular}{r|ccc}\n",
       "\t& feature & split\\_importance & gain\\_importance\\\\\n",
       "\t\\hline\n",
       "\t& String & Float64 & Float64\\\\\n",
       "\t\\hline\n",
       "\t1 & DaysSinceLastActivity & 468.0 & 11285.3 \\\\\n",
       "\t2 & HasActivePromotionalOffer & 138.0 & 760.147 \\\\\n",
       "\t3 & AverageSessionDuration & 1159.0 & 4897.82 \\\\\n",
       "\\end{tabular}\n"
      ],
      "text/plain": [
       "\u001b[1m3×3 DataFrame\u001b[0m\n",
       "\u001b[1m Row \u001b[0m│\u001b[1m feature                   \u001b[0m\u001b[1m split_importance \u001b[0m\u001b[1m gain_importance \u001b[0m\n",
       "     │\u001b[90m String                    \u001b[0m\u001b[90m Float64          \u001b[0m\u001b[90m Float64         \u001b[0m\n",
       "─────┼──────────────────────────────────────────────────────────────\n",
       "   1 │ DaysSinceLastActivity                 468.0        11285.3\n",
       "   2 │ HasActivePromotionalOffer             138.0          760.147\n",
       "   3 │ AverageSessionDuration               1159.0         4897.82"
      ]
     },
     "metadata": {},
     "output_type": "display_data"
    }
   ],
   "source": [
    "# 特徴量名を取得\n",
    "feature_names = names(df[:, Not(:IsChurned)])\n",
    "\n",
    "# 特徴量の重要度を可視化しやすい形式に変換\n",
    "importance_df = DataFrame(\n",
    "    feature = feature_names,\n",
    "    split_importance = importance.split,\n",
    "    gain_importance = importance.gain\n",
    ")\n",
    "\n",
    "# 結果を表示\n",
    "println(\"Feature Importance:\")\n",
    "display(importance_df)"
   ]
  },
  {
   "cell_type": "code",
   "execution_count": 7,
   "metadata": {},
   "outputs": [
    {
     "name": "stdout",
     "output_type": "stream",
     "text": [
      "y shape: ("
     ]
    },
    {
     "name": "stderr",
     "output_type": "stream",
     "text": [
      "WARNING: using MLJ.fit! in module Main conflicts with an existing identifier.\n",
      "WARNING: using MLJ.predict in module Main conflicts with an existing identifier.\n"
     ]
    },
    {
     "data": {
      "text/plain": [
       "          ┌─────────────┐\n",
       "          │Ground Truth │\n",
       "┌─────────┼──────┬──────┤\n",
       "│Predicted│  0   │  1   │\n",
       "├─────────┼──────┼──────┤\n",
       "│    0    │ 826  │  74  │\n",
       "├─────────┼──────┼──────┤\n",
       "│    1    │  0   │ 100  │\n",
       "└─────────┴──────┴──────┘\n"
      ]
     },
     "metadata": {},
     "output_type": "display_data"
    },
    {
     "name": "stdout",
     "output_type": "stream",
     "text": [
      "1000,)\n",
      "y_pred_binary shape: (1000,)\n"
     ]
    }
   ],
   "source": [
    "using MLJ\n",
    "\n",
    "# 予測確率を取得\n",
    "y_pred_proba = predict(estimator, X)\n",
    "y_pred_binary = vec([p > 0.5 ? 1 : 0 for p in y_pred_proba])\n",
    "\n",
    "# 次元を確認\n",
    "println(\"y shape: \", size(y))\n",
    "println(\"y_pred_binary shape: \", size(y_pred_binary))\n",
    "\n",
    "# 混同行列\n",
    "confusion_matrix = MLJ.confusion_matrix(y, y_pred_binary)\n",
    "display(confusion_matrix)\n"
   ]
  },
  {
   "cell_type": "code",
   "execution_count": 15,
   "metadata": {},
   "outputs": [
    {
     "ename": "ArgumentError",
     "evalue": "ArgumentError: Was expecting categorical arguments: In a call like `roc_curve(ŷ, y)`, `ŷ` must have eltype `<:CategoricalDistributions.UnivariateFinite` and `y` must have eltype `<:CategoricalArrays.CategoricalArray` . If using raw probabilities, consider using `Functions.roc_curve` instead. ",
     "output_type": "error",
     "traceback": [
      "ArgumentError: Was expecting categorical arguments: In a call like `roc_curve(ŷ, y)`, `ŷ` must have eltype `<:CategoricalDistributions.UnivariateFinite` and `y` must have eltype `<:CategoricalArrays.CategoricalArray` . If using raw probabilities, consider using `Functions.roc_curve` instead. \n",
      "\n",
      "Stacktrace:\n",
      " [1] binary_levels(yhat::Matrix{Float64}, y::Vector{Int64})\n",
      "   @ StatisticalMeasures ~/.julia/packages/StatisticalMeasures/UTtxb/src/roc.jl:36\n",
      " [2] roc_curve(yhat::Matrix{Float64}, y::Vector{Int64})\n",
      "   @ StatisticalMeasures ~/.julia/packages/StatisticalMeasures/UTtxb/src/roc.jl:52\n",
      " [3] top-level scope\n",
      "   @ ~/repository/Mymljl/src/jl_notebook_cell_df34fa98e69747e1a8f8a730347b8e2f_X10sZmlsZQ==.jl:8"
     ]
    }
   ],
   "source": [
    "using MLJ\n",
    "using Plots\n",
    "\n",
    "# 予測確率を取得（UnivariateFinite型で返される）\n",
    "y_pred_proba = predict(estimator, X)\n",
    "\n",
    "# ROC曲線とAUCの計算\n",
    "fprs, tprs, thresholds = MLJ.roc_curve(y_pred_proba, y)\n",
    "auc_score = MLJ.auc(y_pred_proba, y)\n",
    "\n",
    "# プロット\n",
    "plot(fprs, tprs, label=\"ROC curve\")\n",
    "plot!(0:1, 0:1, label=\"Random\", linestyle=:dash)\n",
    "xlabel!(\"False Positive Rate\")\n",
    "ylabel!(\"True Positive Rate\")\n",
    "title!(\"ROC Curve (AUC = $(round(auc_score, digits=3)))\")"
   ]
  }
 ],
 "metadata": {
  "kernelspec": {
   "display_name": "Julia 1.11.2",
   "language": "julia",
   "name": "julia-1.11"
  },
  "language_info": {
   "file_extension": ".jl",
   "mimetype": "application/julia",
   "name": "julia",
   "version": "1.11.2"
  }
 },
 "nbformat": 4,
 "nbformat_minor": 4
}
