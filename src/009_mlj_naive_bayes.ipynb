{
 "cells": [
  {
   "cell_type": "code",
   "execution_count": 16,
   "metadata": {},
   "outputs": [
    {
     "name": "stdout",
     "output_type": "stream",
     "text": [
      "import MLJNaiveBayesInterface ✔\n"
     ]
    },
    {
     "name": "stderr",
     "output_type": "stream",
     "text": [
      "\u001b[36m\u001b[1m[ \u001b[22m\u001b[39m\u001b[36m\u001b[1mInfo: \u001b[22m\u001b[39mFor silent loading, specify `verbosity=0`. \n"
     ]
    },
    {
     "data": {
      "text/plain": [
       "(sepal_length = [5.1, 4.9, 4.7, 4.6, 5.0, 5.4, 4.6, 5.0, 4.4, 4.9  …  6.7, 6.9, 5.8, 6.8, 6.7, 6.7, 6.3, 6.5, 6.2, 5.9],\n",
       " sepal_width = [3.5, 3.0, 3.2, 3.1, 3.6, 3.9, 3.4, 3.4, 2.9, 3.1  …  3.1, 3.1, 2.7, 3.2, 3.3, 3.0, 2.5, 3.0, 3.4, 3.0],\n",
       " petal_length = [1.4, 1.4, 1.3, 1.5, 1.4, 1.7, 1.4, 1.5, 1.4, 1.5  …  5.6, 5.1, 5.1, 5.9, 5.7, 5.2, 5.0, 5.2, 5.4, 5.1],\n",
       " petal_width = [0.2, 0.2, 0.2, 0.2, 0.2, 0.4, 0.3, 0.2, 0.2, 0.1  …  2.4, 2.3, 1.9, 2.3, 2.5, 2.3, 1.9, 2.0, 2.3, 1.8],)"
      ]
     },
     "metadata": {},
     "output_type": "display_data"
    },
    {
     "data": {
      "text/plain": [
       "150-element CategoricalArrays.CategoricalArray{String,1,UInt32}:\n",
       " \"setosa\"\n",
       " \"setosa\"\n",
       " \"setosa\"\n",
       " \"setosa\"\n",
       " \"setosa\"\n",
       " \"setosa\"\n",
       " \"setosa\"\n",
       " \"setosa\"\n",
       " \"setosa\"\n",
       " \"setosa\"\n",
       " \"setosa\"\n",
       " \"setosa\"\n",
       " \"setosa\"\n",
       " ⋮\n",
       " \"virginica\"\n",
       " \"virginica\"\n",
       " \"virginica\"\n",
       " \"virginica\"\n",
       " \"virginica\"\n",
       " \"virginica\"\n",
       " \"virginica\"\n",
       " \"virginica\"\n",
       " \"virginica\"\n",
       " \"virginica\"\n",
       " \"virginica\"\n",
       " \"virginica\""
      ]
     },
     "metadata": {},
     "output_type": "display_data"
    }
   ],
   "source": [
    "using MLJ\n",
    "GaussianNB = @load GaussianNBClassifier pkg=NaiveBayes\n",
    "\n",
    "X, y = @load_iris\n",
    "display(X)\n",
    "display(y)"
   ]
  },
  {
   "cell_type": "code",
   "execution_count": 20,
   "metadata": {},
   "outputs": [
    {
     "name": "stderr",
     "output_type": "stream",
     "text": [
      "\u001b[36m\u001b[1m[ \u001b[22m\u001b[39m\u001b[36m\u001b[1mInfo: \u001b[22m\u001b[39mTraining machine(GaussianNBClassifier(), …).\n"
     ]
    },
    {
     "data": {
      "text/plain": [
       "(c_counts = Dict{CategoricalArrays.CategoricalValue{String, UInt32}, Int64}(\"virginica\" => 50, \"setosa\" => 50, \"versicolor\" => 50),\n",
       " c_stats = Dict{CategoricalArrays.CategoricalValue{String, UInt32}, NaiveBayes.DataStats}(\"virginica\" => DataStats(n_vars=4,n_obs=50,obs_axis=2), \"setosa\" => DataStats(n_vars=4,n_obs=50,obs_axis=2), \"versicolor\" => DataStats(n_vars=4,n_obs=50,obs_axis=2)),\n",
       " gaussians = Dict{CategoricalArrays.CategoricalValue{String, UInt32}, Distributions.MvNormal}(\"virginica\" => FullNormal(\n",
       "dim: 4\n",
       "μ: [6.587999999999998, 2.9739999999999998, 5.552, 2.026]\n",
       "Σ: [0.4043428571428881 0.0937632653061284 0.30328979591837774 0.04909387755102142; 0.0937632653061284 0.10400408163265443 0.07137959183673075 0.04762857142857136; 0.30328979591837774 0.07137959183673075 0.3045877551020316 0.04882448979591275; 0.04909387755102142 0.04762857142857136 0.04882448979591275 0.07543265306122517]\n",
       ")\n",
       ", \"setosa\" => FullNormal(\n",
       "dim: 4\n",
       "μ: [5.005999999999999, 3.4180000000000006, 1.464, 0.2439999999999999]\n",
       "Σ: [0.12424897959183964 0.10029795918368174 0.016138775510208522 0.01054693877551129; 0.10029795918368174 0.1451795918367364 0.011681632653060391 0.011436734693877723; 0.016138775510208522 0.011681632653060391 0.03010612244897903 0.005697959183673821; 0.01054693877551129 0.011436734693877723 0.005697959183673821 0.011493877551020465]\n",
       ")\n",
       ", \"versicolor\" => FullNormal(\n",
       "dim: 4\n",
       "μ: [5.936, 2.7700000000000005, 4.26, 1.3259999999999998]\n",
       "Σ: [0.2664326530612387 0.08518367346938731 0.18289795918367324 0.05577959183673723; 0.08518367346938731 0.09846938775510065 0.08265306122449119 0.04120408163265317; 0.18289795918367324 0.08265306122449119 0.2208163265306156 0.0731020408163264; 0.05577959183673723 0.04120408163265317 0.0731020408163264 0.039106122448979375]\n",
       ")\n",
       "),\n",
       " n_obs = 150,)"
      ]
     },
     "execution_count": 20,
     "metadata": {},
     "output_type": "execute_result"
    }
   ],
   "source": [
    "clf = GaussianNB()\n",
    "mach = machine(clf, X, y) |> fit!\n",
    "fitted_params(mach)"
   ]
  },
  {
   "cell_type": "code",
   "execution_count": 27,
   "metadata": {},
   "outputs": [
    {
     "data": {
      "text/plain": [
       "5-element CategoricalDistributions.UnivariateFiniteVector{Multiclass{3}, String, UInt32, Float64}:\n",
       " UnivariateFinite{Multiclass{3}}(setosa=>1.0, versicolor=>4.99e-26, virginica=>3.02e-41)\n",
       " UnivariateFinite{Multiclass{3}}(setosa=>1.0, versicolor=>7.25e-19, virginica=>1.24e-34)\n",
       " UnivariateFinite{Multiclass{3}}(setosa=>1.0, versicolor=>1.6e-21, virginica=>3.49e-36)\n",
       " UnivariateFinite{Multiclass{3}}(setosa=>1.0, versicolor=>8.28e-19, virginica=>8.52e-32)\n",
       " UnivariateFinite{Multiclass{3}}(setosa=>1.0, versicolor=>3.59e-27, virginica=>2.1399999999999999e-41)"
      ]
     },
     "execution_count": 27,
     "metadata": {},
     "output_type": "execute_result"
    }
   ],
   "source": [
    "preds = predict(mach, X) ## probabilistic predictions\n",
    "first(preds, 5)"
   ]
  },
  {
   "cell_type": "code",
   "execution_count": 26,
   "metadata": {},
   "outputs": [
    {
     "data": {
      "text/plain": [
       "150-element CategoricalArrays.CategoricalArray{String,1,UInt32}:\n",
       " \"setosa\"\n",
       " \"setosa\"\n",
       " \"setosa\"\n",
       " \"setosa\"\n",
       " \"setosa\"\n",
       " \"setosa\"\n",
       " \"setosa\"\n",
       " \"setosa\"\n",
       " \"setosa\"\n",
       " \"setosa\"\n",
       " \"setosa\"\n",
       " \"setosa\"\n",
       " \"setosa\"\n",
       " ⋮\n",
       " \"virginica\"\n",
       " \"virginica\"\n",
       " \"virginica\"\n",
       " \"virginica\"\n",
       " \"virginica\"\n",
       " \"virginica\"\n",
       " \"virginica\"\n",
       " \"virginica\"\n",
       " \"virginica\"\n",
       " \"virginica\"\n",
       " \"virginica\"\n",
       " \"virginica\""
      ]
     },
     "execution_count": 26,
     "metadata": {},
     "output_type": "execute_result"
    }
   ],
   "source": [
    "predict_mode(mach, X) ## point predictions"
   ]
  }
 ],
 "metadata": {
  "kernelspec": {
   "display_name": "Julia 1.11.2",
   "language": "julia",
   "name": "julia-1.11"
  },
  "language_info": {
   "file_extension": ".jl",
   "mimetype": "application/julia",
   "name": "julia",
   "version": "1.11.2"
  }
 },
 "nbformat": 4,
 "nbformat_minor": 2
}
