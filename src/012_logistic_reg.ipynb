{
 "cells": [
  {
   "cell_type": "code",
   "execution_count": 37,
   "metadata": {},
   "outputs": [
    {
     "data": {
      "text/html": [
       "<div><div style = \"float: left;\"><span>1000×4 DataFrame</span></div><div style = \"float: right;\"><span style = \"font-style: italic;\">975 rows omitted</span></div><div style = \"clear: both;\"></div></div><div class = \"data-frame\" style = \"overflow-x: scroll;\"><table class = \"data-frame\" style = \"margin-bottom: 6px;\"><thead><tr class = \"header\"><th class = \"rowNumber\" style = \"font-weight: bold; text-align: right;\">Row</th><th style = \"text-align: left;\">DaysSinceLastActivity</th><th style = \"text-align: left;\">HasActivePromotionalOffer</th><th style = \"text-align: left;\">AverageSessionDuration</th><th style = \"text-align: left;\">IsChurned</th></tr><tr class = \"subheader headerLastRow\"><th class = \"rowNumber\" style = \"font-weight: bold; text-align: right;\"></th><th title = \"Float64\" style = \"text-align: left;\">Float64</th><th title = \"Int64\" style = \"text-align: left;\">Int64</th><th title = \"Float64\" style = \"text-align: left;\">Float64</th><th title = \"Int64\" style = \"text-align: left;\">Int64</th></tr></thead><tbody><tr><td class = \"rowNumber\" style = \"font-weight: bold; text-align: right;\">1</td><td style = \"text-align: right;\">3.98981</td><td style = \"text-align: right;\">0</td><td style = \"text-align: right;\">39.2601</td><td style = \"text-align: right;\">0</td></tr><tr><td class = \"rowNumber\" style = \"font-weight: bold; text-align: right;\">2</td><td style = \"text-align: right;\">10.9716</td><td style = \"text-align: right;\">1</td><td style = \"text-align: right;\">63.3856</td><td style = \"text-align: right;\">0</td></tr><tr><td class = \"rowNumber\" style = \"font-weight: bold; text-align: right;\">3</td><td style = \"text-align: right;\">11.5288</td><td style = \"text-align: right;\">1</td><td style = \"text-align: right;\">29.2988</td><td style = \"text-align: right;\">0</td></tr><tr><td class = \"rowNumber\" style = \"font-weight: bold; text-align: right;\">4</td><td style = \"text-align: right;\">0.321822</td><td style = \"text-align: right;\">0</td><td style = \"text-align: right;\">37.8862</td><td style = \"text-align: right;\">0</td></tr><tr><td class = \"rowNumber\" style = \"font-weight: bold; text-align: right;\">5</td><td style = \"text-align: right;\">9.85267</td><td style = \"text-align: right;\">0</td><td style = \"text-align: right;\">59.4333</td><td style = \"text-align: right;\">0</td></tr><tr><td class = \"rowNumber\" style = \"font-weight: bold; text-align: right;\">6</td><td style = \"text-align: right;\">14.8615</td><td style = \"text-align: right;\">1</td><td style = \"text-align: right;\">41.3992</td><td style = \"text-align: right;\">0</td></tr><tr><td class = \"rowNumber\" style = \"font-weight: bold; text-align: right;\">7</td><td style = \"text-align: right;\">44.6938</td><td style = \"text-align: right;\">1</td><td style = \"text-align: right;\">32.2437</td><td style = \"text-align: right;\">1</td></tr><tr><td class = \"rowNumber\" style = \"font-weight: bold; text-align: right;\">8</td><td style = \"text-align: right;\">3.13866</td><td style = \"text-align: right;\">0</td><td style = \"text-align: right;\">25.0432</td><td style = \"text-align: right;\">0</td></tr><tr><td class = \"rowNumber\" style = \"font-weight: bold; text-align: right;\">9</td><td style = \"text-align: right;\">10.0571</td><td style = \"text-align: right;\">1</td><td style = \"text-align: right;\">26.825</td><td style = \"text-align: right;\">0</td></tr><tr><td class = \"rowNumber\" style = \"font-weight: bold; text-align: right;\">10</td><td style = \"text-align: right;\">16.6652</td><td style = \"text-align: right;\">0</td><td style = \"text-align: right;\">64.126</td><td style = \"text-align: right;\">0</td></tr><tr><td class = \"rowNumber\" style = \"font-weight: bold; text-align: right;\">11</td><td style = \"text-align: right;\">12.8787</td><td style = \"text-align: right;\">0</td><td style = \"text-align: right;\">39.1824</td><td style = \"text-align: right;\">0</td></tr><tr><td class = \"rowNumber\" style = \"font-weight: bold; text-align: right;\">12</td><td style = \"text-align: right;\">9.09421</td><td style = \"text-align: right;\">1</td><td style = \"text-align: right;\">9.03468</td><td style = \"text-align: right;\">0</td></tr><tr><td class = \"rowNumber\" style = \"font-weight: bold; text-align: right;\">13</td><td style = \"text-align: right;\">15.4688</td><td style = \"text-align: right;\">1</td><td style = \"text-align: right;\">23.692</td><td style = \"text-align: right;\">0</td></tr><tr><td style = \"text-align: right;\">&vellip;</td><td style = \"text-align: right;\">&vellip;</td><td style = \"text-align: right;\">&vellip;</td><td style = \"text-align: right;\">&vellip;</td><td style = \"text-align: right;\">&vellip;</td></tr><tr><td class = \"rowNumber\" style = \"font-weight: bold; text-align: right;\">989</td><td style = \"text-align: right;\">1.4701</td><td style = \"text-align: right;\">0</td><td style = \"text-align: right;\">8.66291</td><td style = \"text-align: right;\">0</td></tr><tr><td class = \"rowNumber\" style = \"font-weight: bold; text-align: right;\">990</td><td style = \"text-align: right;\">10.0213</td><td style = \"text-align: right;\">0</td><td style = \"text-align: right;\">36.8474</td><td style = \"text-align: right;\">0</td></tr><tr><td class = \"rowNumber\" style = \"font-weight: bold; text-align: right;\">991</td><td style = \"text-align: right;\">17.9428</td><td style = \"text-align: right;\">1</td><td style = \"text-align: right;\">25.2227</td><td style = \"text-align: right;\">0</td></tr><tr><td class = \"rowNumber\" style = \"font-weight: bold; text-align: right;\">992</td><td style = \"text-align: right;\">9.41387</td><td style = \"text-align: right;\">0</td><td style = \"text-align: right;\">50.2403</td><td style = \"text-align: right;\">0</td></tr><tr><td class = \"rowNumber\" style = \"font-weight: bold; text-align: right;\">993</td><td style = \"text-align: right;\">1.12733</td><td style = \"text-align: right;\">0</td><td style = \"text-align: right;\">12.8268</td><td style = \"text-align: right;\">0</td></tr><tr><td class = \"rowNumber\" style = \"font-weight: bold; text-align: right;\">994</td><td style = \"text-align: right;\">21.3714</td><td style = \"text-align: right;\">1</td><td style = \"text-align: right;\">16.3711</td><td style = \"text-align: right;\">0</td></tr><tr><td class = \"rowNumber\" style = \"font-weight: bold; text-align: right;\">995</td><td style = \"text-align: right;\">4.44331</td><td style = \"text-align: right;\">1</td><td style = \"text-align: right;\">22.4858</td><td style = \"text-align: right;\">0</td></tr><tr><td class = \"rowNumber\" style = \"font-weight: bold; text-align: right;\">996</td><td style = \"text-align: right;\">13.6163</td><td style = \"text-align: right;\">1</td><td style = \"text-align: right;\">16.0191</td><td style = \"text-align: right;\">0</td></tr><tr><td class = \"rowNumber\" style = \"font-weight: bold; text-align: right;\">997</td><td style = \"text-align: right;\">3.62058</td><td style = \"text-align: right;\">1</td><td style = \"text-align: right;\">18.8062</td><td style = \"text-align: right;\">0</td></tr><tr><td class = \"rowNumber\" style = \"font-weight: bold; text-align: right;\">998</td><td style = \"text-align: right;\">6.18547</td><td style = \"text-align: right;\">0</td><td style = \"text-align: right;\">20.4663</td><td style = \"text-align: right;\">0</td></tr><tr><td class = \"rowNumber\" style = \"font-weight: bold; text-align: right;\">999</td><td style = \"text-align: right;\">9.68644</td><td style = \"text-align: right;\">1</td><td style = \"text-align: right;\">67.917</td><td style = \"text-align: right;\">0</td></tr><tr><td class = \"rowNumber\" style = \"font-weight: bold; text-align: right;\">1000</td><td style = \"text-align: right;\">12.5478</td><td style = \"text-align: right;\">1</td><td style = \"text-align: right;\">3.52226</td><td style = \"text-align: right;\">0</td></tr></tbody></table></div>"
      ],
      "text/latex": [
       "\\begin{tabular}{r|cccc}\n",
       "\t& DaysSinceLastActivity & HasActivePromotionalOffer & AverageSessionDuration & IsChurned\\\\\n",
       "\t\\hline\n",
       "\t& Float64 & Int64 & Float64 & Int64\\\\\n",
       "\t\\hline\n",
       "\t1 & 3.98981 & 0 & 39.2601 & 0 \\\\\n",
       "\t2 & 10.9716 & 1 & 63.3856 & 0 \\\\\n",
       "\t3 & 11.5288 & 1 & 29.2988 & 0 \\\\\n",
       "\t4 & 0.321822 & 0 & 37.8862 & 0 \\\\\n",
       "\t5 & 9.85267 & 0 & 59.4333 & 0 \\\\\n",
       "\t6 & 14.8615 & 1 & 41.3992 & 0 \\\\\n",
       "\t7 & 44.6938 & 1 & 32.2437 & 1 \\\\\n",
       "\t8 & 3.13866 & 0 & 25.0432 & 0 \\\\\n",
       "\t9 & 10.0571 & 1 & 26.825 & 0 \\\\\n",
       "\t10 & 16.6652 & 0 & 64.126 & 0 \\\\\n",
       "\t11 & 12.8787 & 0 & 39.1824 & 0 \\\\\n",
       "\t12 & 9.09421 & 1 & 9.03468 & 0 \\\\\n",
       "\t13 & 15.4688 & 1 & 23.692 & 0 \\\\\n",
       "\t14 & 0.987242 & 1 & 26.8226 & 0 \\\\\n",
       "\t15 & 16.3082 & 0 & 44.1612 & 0 \\\\\n",
       "\t16 & 13.0641 & 0 & 20.7889 & 0 \\\\\n",
       "\t17 & 11.0342 & 1 & 50.6124 & 0 \\\\\n",
       "\t18 & 5.51686 & 1 & 25.1812 & 0 \\\\\n",
       "\t19 & 6.48897 & 1 & 63.1646 & 0 \\\\\n",
       "\t20 & 12.9087 & 0 & 37.0835 & 0 \\\\\n",
       "\t21 & 8.59557 & 1 & 37.1335 & 0 \\\\\n",
       "\t22 & 1.04489 & 0 & 23.515 & 0 \\\\\n",
       "\t23 & 13.057 & 0 & 28.4578 & 0 \\\\\n",
       "\t24 & 3.22215 & 1 & 10.1492 & 0 \\\\\n",
       "\t25 & 12.6174 & 0 & 14.7633 & 0 \\\\\n",
       "\t26 & 21.7447 & 0 & 17.0147 & 1 \\\\\n",
       "\t27 & 7.56154 & 1 & 13.8105 & 0 \\\\\n",
       "\t28 & 5.98658 & 0 & 38.9515 & 0 \\\\\n",
       "\t29 & 2.2599 & 0 & 31.1411 & 0 \\\\\n",
       "\t30 & 8.92207 & 1 & 9.11997 & 0 \\\\\n",
       "\t$\\dots$ & $\\dots$ & $\\dots$ & $\\dots$ & $\\dots$ \\\\\n",
       "\\end{tabular}\n"
      ],
      "text/plain": [
       "\u001b[1m1000×4 DataFrame\u001b[0m\n",
       "\u001b[1m  Row \u001b[0m│\u001b[1m DaysSinceLastActivity \u001b[0m\u001b[1m HasActivePromotionalOffer \u001b[0m\u001b[1m AverageSessionDurati\u001b[0m ⋯\n",
       "      │\u001b[90m Float64               \u001b[0m\u001b[90m Int64                     \u001b[0m\u001b[90m Float64             \u001b[0m ⋯\n",
       "──────┼─────────────────────────────────────────────────────────────────────────\n",
       "    1 │              3.98981                           0                39.260 ⋯\n",
       "    2 │             10.9716                            1                63.385\n",
       "    3 │             11.5288                            1                29.298\n",
       "    4 │              0.321822                          0                37.886\n",
       "    5 │              9.85267                           0                59.433 ⋯\n",
       "    6 │             14.8615                            1                41.399\n",
       "    7 │             44.6938                            1                32.243\n",
       "    8 │              3.13866                           0                25.043\n",
       "    9 │             10.0571                            1                26.825 ⋯\n",
       "   10 │             16.6652                            0                64.126\n",
       "   11 │             12.8787                            0                39.182\n",
       "  ⋮   │           ⋮                        ⋮                        ⋮          ⋱\n",
       "  991 │             17.9428                            1                25.222\n",
       "  992 │              9.41387                           0                50.240 ⋯\n",
       "  993 │              1.12733                           0                12.826\n",
       "  994 │             21.3714                            1                16.371\n",
       "  995 │              4.44331                           1                22.485\n",
       "  996 │             13.6163                            1                16.019 ⋯\n",
       "  997 │              3.62058                           1                18.806\n",
       "  998 │              6.18547                           0                20.466\n",
       "  999 │              9.68644                           1                67.917\n",
       " 1000 │             12.5478                            1                 3.522 ⋯\n",
       "\u001b[36m                                                  2 columns and 979 rows omitted\u001b[0m"
      ]
     },
     "execution_count": 37,
     "metadata": {},
     "output_type": "execute_result"
    }
   ],
   "source": [
    "using CSV\n",
    "using DataFrames\n",
    "using GLM\n",
    "using StatsBase\n",
    "\n",
    "# CSVファイルを読み込む\n",
    "data = CSV.read(\"streaming.csv\", DataFrame)\n"
   ]
  },
  {
   "cell_type": "code",
   "execution_count": 33,
   "metadata": {},
   "outputs": [
    {
     "data": {
      "text/plain": [
       "10-element Vector{Int64}:\n",
       " 0\n",
       " 0\n",
       " 0\n",
       " 0\n",
       " 0\n",
       " 0\n",
       " 1\n",
       " 0\n",
       " 0\n",
       " 0"
      ]
     },
     "execution_count": 33,
     "metadata": {},
     "output_type": "execute_result"
    }
   ],
   "source": [
    "df.IsChurned = convert.(Int64, df.IsChurned)\n",
    "first(df.IsChurned, 10)"
   ]
  },
  {
   "cell_type": "code",
   "execution_count": 39,
   "metadata": {},
   "outputs": [
    {
     "name": "stdout",
     "output_type": "stream",
     "text": [
      "[-4.4707484182319135, 0.23421968748254118, -1.2760918787125899, -0.053467279444130246]\n"
     ]
    }
   ],
   "source": [
    "# 特徴量とターゲット変数を分離\n",
    "X = select(data, [:DaysSinceLastActivity, :HasActivePromotionalOffer, :AverageSessionDuration])\n",
    "y = data.IsChurned\n",
    "# モデルの構築\n",
    "model = glm(@formula(IsChurned ~ DaysSinceLastActivity + HasActivePromotionalOffer + AverageSessionDuration), data, Binomial(), LogitLink())\n",
    "# モデルの係数を表示\n",
    "println(coef(model))"
   ]
  },
  {
   "cell_type": "code",
   "execution_count": 40,
   "metadata": {},
   "outputs": [
    {
     "name": "stdout",
     "output_type": "stream",
     "text": [
      "Accuracy: 0.945\n"
     ]
    }
   ],
   "source": [
    "# 予測確率の計算\n",
    "probabilities = predict(model)\n",
    "\n",
    "# 予測ラベルの生成（閾値0.5）\n",
    "predictions = [p > 0.5 ? 1 : 0 for p in probabilities]\n",
    "\n",
    "# 精度の計算\n",
    "accuracy = mean(predictions .== y)\n",
    "println(\"Accuracy: \", accuracy)\n"
   ]
  }
 ],
 "metadata": {
  "kernelspec": {
   "display_name": "Julia 1.11.2",
   "language": "julia",
   "name": "julia-1.11"
  },
  "language_info": {
   "file_extension": ".jl",
   "mimetype": "application/julia",
   "name": "julia",
   "version": "1.11.2"
  }
 },
 "nbformat": 4,
 "nbformat_minor": 2
}
