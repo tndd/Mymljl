{
 "cells": [
  {
   "cell_type": "code",
   "execution_count": 13,
   "metadata": {},
   "outputs": [
    {
     "name": "stderr",
     "output_type": "stream",
     "text": [
      "\u001b[36m\u001b[1m┌ \u001b[22m\u001b[39m\u001b[36m\u001b[1mInfo: \u001b[22m\u001b[39mFound initial step size\n",
      "\u001b[36m\u001b[1m└ \u001b[22m\u001b[39m  ϵ = 0.2\n",
      "\u001b[32mSampling: 100%|█████████████████████████████████████████| Time: 0:00:00\u001b[39m\n"
     ]
    },
    {
     "name": "stdout",
     "output_type": "stream",
     "text": [
      "\n",
      "事後分布の要約:\n"
     ]
    },
    {
     "data": {
      "text/plain": [
       "2-element Vector{ChainDataFrame}:\n",
       " Summary Statistics (3 x 8)\n",
       " Quantiles (3 x 6)"
      ]
     },
     "metadata": {},
     "output_type": "display_data"
    },
    {
     "name": "stdout",
     "output_type": "stream",
     "text": [
      "\n",
      "真の値との比較:\n"
     ]
    },
    {
     "ename": "LoadError",
     "evalue": "ArgumentError: index p not found",
     "output_type": "error",
     "traceback": [
      "ArgumentError: index p not found",
      "",
      "Stacktrace:",
      " [1] axisindexes",
      "   @ ~/.julia/packages/AxisArrays/CtyI0/src/indexing.jl:317 [inlined]",
      " [2] axisindexes",
      "   @ ~/.julia/packages/AxisArrays/CtyI0/src/indexing.jl:199 [inlined]",
      " [3] macro expansion",
      "   @ ~/.julia/packages/AxisArrays/CtyI0/src/indexing.jl:394 [inlined]",
      " [4] _to_index(::AxisArrays.AxisArray{Float64, 3, Array{Float64, 3}, Tuple{AxisArrays.Axis{:iter, StepRange{Int64, Int64}}, AxisArrays.Axis{:var, Vector{Symbol}}, AxisArrays.Axis{:chain, UnitRange{Int64}}}}, ::Tuple{AxisArrays.Unsupported, AxisArrays.Unsupported, AxisArrays.Unsupported}, ::Colon, ::Symbol, ::Colon)",
      "   @ AxisArrays ~/.julia/packages/AxisArrays/CtyI0/src/indexing.jl:349",
      " [5] to_index",
      "   @ ~/.julia/packages/AxisArrays/CtyI0/src/indexing.jl:347 [inlined]",
      " [6] getindex",
      "   @ ~/.julia/packages/AxisArrays/CtyI0/src/indexing.jl:123 [inlined]",
      " [7] getindex(chn::Chains{Float64, AxisArrays.AxisArray{Float64, 3, Array{Float64, 3}, Tuple{AxisArrays.Axis{:iter, StepRange{Int64, Int64}}, AxisArrays.Axis{:var, Vector{Symbol}}, AxisArrays.Axis{:chain, UnitRange{Int64}}}}, Missing, @NamedTuple{parameters::Vector{Symbol}, internals::Vector{Symbol}}, @NamedTuple{varname_to_symbol::OrderedDict{AbstractPPL.VarName, Symbol}, start_time::Float64, stop_time::Float64}}, i::Function, j::Symbol, k::Function)",
      "   @ MCMCChains ~/.julia/packages/MCMCChains/RIFg4/src/chains.jl:192",
      " [8] getindex(c::Chains{Float64, AxisArrays.AxisArray{Float64, 3, Array{Float64, 3}, Tuple{AxisArrays.Axis{:iter, StepRange{Int64, Int64}}, AxisArrays.Axis{:var, Vector{Symbol}}, AxisArrays.Axis{:chain, UnitRange{Int64}}}}, Missing, @NamedTuple{parameters::Vector{Symbol}, internals::Vector{Symbol}}, @NamedTuple{varname_to_symbol::OrderedDict{AbstractPPL.VarName, Symbol}, start_time::Float64, stop_time::Float64}}, v::Symbol)",
      "   @ MCMCChains ~/.julia/packages/MCMCChains/RIFg4/src/chains.jl:189",
      " [9] top-level scope",
      "   @ In[13]:43"
     ]
    }
   ],
   "source": [
    "using Turing\n",
    "using StatsPlots\n",
    "using Random\n",
    "\n",
    "# サンプルデータの生成\n",
    "Random.seed!(42)\n",
    "# 真のパラメータ（3つの状態：表、裏、立つ）\n",
    "true_p_head = 0.45    # 表が出る確率\n",
    "true_p_tail = 0.35    # 裏が出る確率\n",
    "# 残りは立つ確率 (0.20)\n",
    "\n",
    "n_samples = 1000\n",
    "# 多項分布からサンプリング\n",
    "p = [true_p_head, true_p_tail, 1 - true_p_head - true_p_tail]\n",
    "data = rand(Categorical(p), n_samples)\n",
    "\n",
    "# モデルの定義\n",
    "@model function coin_flip(data)\n",
    "    # Dirichlet分布の事前分布（表、裏、立つ）\n",
    "    p ~ Dirichlet(ones(3))\n",
    "\n",
    "    # カテゴリカル分布での尤度\n",
    "    for i in eachindex(data)\n",
    "        data[i] ~ Categorical(p)\n",
    "    end\n",
    "end\n",
    "\n",
    "# MCMCサンプリング\n",
    "model = coin_flip(data)\n",
    "chain = sample(model, NUTS(), 2000)\n",
    "\n",
    "# 結果の可視化\n",
    "plot(chain)\n",
    "\n",
    "# 結果の要約\n",
    "summary_df = describe(chain)\n",
    "println(\"\\n事後分布の要約:\")\n",
    "display(summary_df)\n",
    "\n",
    "# 真の値との比較\n",
    "println(\"\\n真の値との比較:\")\n",
    "# 各パラメータの推定平均値を取得\n",
    "mean_p_head = mean(chain[:p][:, 1])\n",
    "mean_p_tail = mean(chain[:p][:, 2])\n",
    "mean_p_stand = mean(chain[:p][:, 3])\n",
    "\n",
    "println(\"True p_head: $(true_p_head), Estimated: $(mean_p_head)\")\n",
    "println(\"True p_tail: $(true_p_tail), Estimated: $(mean_p_tail)\")\n",
    "println(\"True p_stand: $(1-true_p_head-true_p_tail), Estimated: $(mean_p_stand)\")\n",
    "\n",
    "# 観測データと推定された確率の比較\n",
    "outcomes = [\"Head\", \"Tail\", \"Stand\"]\n",
    "observed_counts = counts(data, 1:3)\n",
    "observed_probs = observed_counts ./ length(data)\n",
    "estimated_probs = [mean_p_head, mean_p_tail, mean_p_stand]\n",
    "\n",
    "bar(outcomes, observed_probs, alpha=0.5, label=\"Observed\")\n",
    "bar!(outcomes, estimated_probs, alpha=0.5, label=\"Estimated\")\n",
    "ylabel!(\"Probability\")\n",
    "title!(\"Observed vs Estimated Probabilities\")\n"
   ]
  }
 ],
 "metadata": {
  "kernelspec": {
   "display_name": "Julia 1.11.2",
   "language": "julia",
   "name": "julia-1.11"
  },
  "language_info": {
   "file_extension": ".jl",
   "mimetype": "application/julia",
   "name": "julia",
   "version": "1.11.2"
  }
 },
 "nbformat": 4,
 "nbformat_minor": 2
}
