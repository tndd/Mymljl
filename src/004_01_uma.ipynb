{
 "cells": [
  {
   "cell_type": "code",
   "execution_count": 1,
   "metadata": {},
   "outputs": [
    {
     "data": {
      "text/plain": [
       "213"
      ]
     },
     "execution_count": 1,
     "metadata": {},
     "output_type": "execute_result"
    }
   ],
   "source": [
    "# 着差をスリット数に変換する\n",
    "MARGIN_TO_SLITS = Dict(\n",
    "    \"同着\" => 0,\n",
    "    \"ハナ\" => 3,\n",
    "    \"アタマ\" => 6,\n",
    "    \"クビ\" => 12,\n",
    "    \"1/2\" => 24,    # 1/2馬身\n",
    "    \"3/4\" => 30,    # 3/4馬身\n",
    "    \"1\" => 33,      # 1馬身\n",
    "    \"1.1/4\" => 37,  # 1 1/4馬身\n",
    "    \"1.1/2\" => 40,  # 1 1/2馬身 (推定値: 2/10〜3/10秒の中間)\n",
    "    \"1.3/4\" => 43,  # 1 3/4馬身 (推定値: 3/10秒)\n",
    "    \"2\" => 46,      # 2馬身 (3/10秒相当)\n",
    "    \"2.1/2\" => 53,  # 2 1/2馬身 (4/10秒相当)\n",
    "    \"3\" => 66,      # 3馬身 (5/10秒相当)\n",
    "    \"3.1/2\" => 80,  # 3 1/2馬身 (6/10秒相当)\n",
    "    \"4\" => 93,      # 4馬身 (7/10秒相当)\n",
    "    \"5\" => 113,     # 5馬身 (8.5/10秒相当)\n",
    "    \"6\" => 133,     # 6馬身 (1秒相当)\n",
    "    \"7\" => 153,     # 7馬身 (11.5/10秒相当)\n",
    "    \"8\" => 173,     # 8馬身 (13/10秒相当)\n",
    "    \"9\" => 193,     # 9馬身 (14.5/10秒相当)\n",
    "    \"10\" => 213,    # 10馬身 (16/10秒相当)\n",
    "    \"大差\" => 226   # 17/10秒以上\n",
    ")\n",
    "\n",
    "MARGIN_TO_SLITS[\"10\"]\n"
   ]
  },
  {
   "cell_type": "code",
   "execution_count": 2,
   "metadata": {},
   "outputs": [
    {
     "name": "stdout",
     "output_type": "stream",
     "text": [
      "処理が完了しました。新しいデータは'race_nz.csv'に保存されました。\n"
     ]
    }
   ],
   "source": [
    "using CSV\n",
    "using DataFrames\n",
    "using Statistics\n",
    "\n",
    "# マージンをスリットに変換する関数\n",
    "function margin_to_slits(margin)\n",
    "    get(MARGIN_TO_SLITS, margin, 0)\n",
    "end\n",
    "\n",
    "# スリットスコアの正規化関数を修正\n",
    "function normalize_slits(slits_array)\n",
    "    # 逆転させる（最小値が最大に、最大値が最小になるように）\n",
    "    max_slits = maximum(slits_array)\n",
    "    # 1から引くことで、良い成績（スリット数が少ない）ほど高い値になる\n",
    "    1.0 .- ((slits_array .- minimum(slits_array)) ./ (maximum(slits_array) - minimum(slits_array)))\n",
    "end\n",
    "\n",
    "function standardize_slits(slits_array)\n",
    "    (slits_array .- mean(slits_array)) ./ std(slits_array)\n",
    "end\n",
    "\n",
    "function percentile_rank(slits_array)\n",
    "    n = length(slits_array)\n",
    "    ranks = [count(x -> x <= val, slits_array) for val in slits_array]\n",
    "    (ranks .- 0.5) ./ n * 100\n",
    "end\n",
    "\n",
    "function relative_performance(slits_array)\n",
    "    best_performance = minimum(slits_array)\n",
    "    best_performance ./ slits_array\n",
    "end\n",
    "\n",
    "# オッズの処理関数\n",
    "function process_odds(odds_array)\n",
    "    win_probability = 1 ./ odds_array\n",
    "\n",
    "    # 0-1の範囲に正規化（最も人気のある馬が1に近く、人気のない馬が0に近くなる）\n",
    "    normalized_probability = (win_probability .- minimum(win_probability)) ./\n",
    "                           (maximum(win_probability) - minimum(win_probability))\n",
    "\n",
    "    return (norm_prob = normalized_probability,)\n",
    "end\n",
    "\n",
    "function main()\n",
    "    # CSVファイルの読み込み\n",
    "    df = CSV.read(\"../data/race.csv\", DataFrame)\n",
    "\n",
    "    # レース毎にグループ化して処理\n",
    "    transformed_dfs = []\n",
    "\n",
    "    for (race_name, race_group) in pairs(groupby(df, :race))\n",
    "        # マージンをスリットに変換\n",
    "        slits = [margin_to_slits(m) for m in race_group.margin]\n",
    "\n",
    "        # スリットスコアの正規化\n",
    "        norm_slits = normalize_slits(slits)\n",
    "\n",
    "        # オッズの処理\n",
    "        odds_processed = process_odds(race_group.odds)\n",
    "\n",
    "        # 必要な列のみを持つ新しいデータフレームの作成\n",
    "        new_df = DataFrame(\n",
    "            race = race_group.race,\n",
    "            box = race_group.box,\n",
    "            normalized_odds = odds_processed.norm_prob,\n",
    "            normalized_slits = norm_slits\n",
    "        )\n",
    "\n",
    "        push!(transformed_dfs, new_df)\n",
    "    end\n",
    "\n",
    "    # 全レースのデータを結合\n",
    "    final_df = vcat(transformed_dfs...)\n",
    "\n",
    "    # 新しいCSVファイルとして保存\n",
    "    CSV.write(\"../data/race_nz.csv\", final_df)\n",
    "\n",
    "    return final_df\n",
    "end\n",
    "\n",
    "# 実行\n",
    "processed_data = main()\n",
    "println(\"処理が完了しました。新しいデータは'race_nz.csv'に保存されました。\")"
   ]
  }
 ],
 "metadata": {
  "kernelspec": {
   "display_name": "Julia 1.11.2",
   "language": "julia",
   "name": "julia-1.11"
  },
  "language_info": {
   "file_extension": ".jl",
   "mimetype": "application/julia",
   "name": "julia",
   "version": "1.11.2"
  }
 },
 "nbformat": 4,
 "nbformat_minor": 2
}
