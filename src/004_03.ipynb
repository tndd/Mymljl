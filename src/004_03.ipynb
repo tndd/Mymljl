{
 "cells": [
  {
   "cell_type": "code",
   "execution_count": 2,
   "metadata": {},
   "outputs": [
    {
     "data": {
      "text/html": [
       "<div><div style = \"float: left;\"><span>34×4 DataFrame</span></div><div style = \"float: right;\"><span style = \"font-style: italic;\">9 rows omitted</span></div><div style = \"clear: both;\"></div></div><div class = \"data-frame\" style = \"overflow-x: scroll;\"><table class = \"data-frame\" style = \"margin-bottom: 6px;\"><thead><tr class = \"header\"><th class = \"rowNumber\" style = \"font-weight: bold; text-align: right;\">Row</th><th style = \"text-align: left;\">box</th><th style = \"text-align: left;\">odds</th><th style = \"text-align: left;\">slit_score</th><th style = \"text-align: left;\">horse</th></tr><tr class = \"subheader headerLastRow\"><th class = \"rowNumber\" style = \"font-weight: bold; text-align: right;\"></th><th title = \"Int64\" style = \"text-align: left;\">Int64</th><th title = \"Float64\" style = \"text-align: left;\">Float64</th><th title = \"Float64\" style = \"text-align: left;\">Float64</th><th title = \"String31\" style = \"text-align: left;\">String31</th></tr></thead><tbody><tr><td class = \"rowNumber\" style = \"font-weight: bold; text-align: right;\">1</td><td style = \"text-align: right;\">2</td><td style = \"text-align: right;\">4.7</td><td style = \"text-align: right;\">1.0</td><td style = \"text-align: left;\">ブラウンラチェット</td></tr><tr><td class = \"rowNumber\" style = \"font-weight: bold; text-align: right;\">2</td><td style = \"text-align: right;\">1</td><td style = \"text-align: right;\">15.6</td><td style = \"text-align: right;\">0.792929</td><td style = \"text-align: left;\">ミストレス</td></tr><tr><td class = \"rowNumber\" style = \"font-weight: bold; text-align: right;\">3</td><td style = \"text-align: right;\">8</td><td style = \"text-align: right;\">4.1</td><td style = \"text-align: right;\">0.792929</td><td style = \"text-align: left;\">ショウナンザナドゥ</td></tr><tr><td class = \"rowNumber\" style = \"font-weight: bold; text-align: right;\">4</td><td style = \"text-align: right;\">4</td><td style = \"text-align: right;\">6.6</td><td style = \"text-align: right;\">0.707071</td><td style = \"text-align: left;\">シホリーン</td></tr><tr><td class = \"rowNumber\" style = \"font-weight: bold; text-align: right;\">5</td><td style = \"text-align: right;\">3</td><td style = \"text-align: right;\">6.3</td><td style = \"text-align: right;\">0.666667</td><td style = \"text-align: left;\">マイエレメント</td></tr><tr><td class = \"rowNumber\" style = \"font-weight: bold; text-align: right;\">6</td><td style = \"text-align: right;\">10</td><td style = \"text-align: right;\">3.1</td><td style = \"text-align: right;\">0.626263</td><td style = \"text-align: left;\">カムニャック</td></tr><tr><td class = \"rowNumber\" style = \"font-weight: bold; text-align: right;\">7</td><td style = \"text-align: right;\">6</td><td style = \"text-align: right;\">57.9</td><td style = \"text-align: right;\">0.5</td><td style = \"text-align: left;\">マピュース</td></tr><tr><td class = \"rowNumber\" style = \"font-weight: bold; text-align: right;\">8</td><td style = \"text-align: right;\">11</td><td style = \"text-align: right;\">79.9</td><td style = \"text-align: right;\">0.292929</td><td style = \"text-align: left;\">クレオズニードル</td></tr><tr><td class = \"rowNumber\" style = \"font-weight: bold; text-align: right;\">9</td><td style = \"text-align: right;\">5</td><td style = \"text-align: right;\">13.4</td><td style = \"text-align: right;\">0.126263</td><td style = \"text-align: left;\">ミリオンローズ</td></tr><tr><td class = \"rowNumber\" style = \"font-weight: bold; text-align: right;\">10</td><td style = \"text-align: right;\">9</td><td style = \"text-align: right;\">217.2</td><td style = \"text-align: right;\">0.040404</td><td style = \"text-align: left;\">ザラタン</td></tr><tr><td class = \"rowNumber\" style = \"font-weight: bold; text-align: right;\">11</td><td style = \"text-align: right;\">7</td><td style = \"text-align: right;\">122.6</td><td style = \"text-align: right;\">0.0</td><td style = \"text-align: left;\">キョウエイボニータ</td></tr><tr><td class = \"rowNumber\" style = \"font-weight: bold; text-align: right;\">12</td><td style = \"text-align: right;\">3</td><td style = \"text-align: right;\">2.8</td><td style = \"text-align: right;\">1.0</td><td style = \"text-align: left;\">クラリネットソナタ</td></tr><tr><td class = \"rowNumber\" style = \"font-weight: bold; text-align: right;\">13</td><td style = \"text-align: right;\">11</td><td style = \"text-align: right;\">2.7</td><td style = \"text-align: right;\">0.919192</td><td style = \"text-align: left;\">エンプレスフレーム</td></tr><tr><td style = \"text-align: right;\">&vellip;</td><td style = \"text-align: right;\">&vellip;</td><td style = \"text-align: right;\">&vellip;</td><td style = \"text-align: right;\">&vellip;</td><td style = \"text-align: right;\">&vellip;</td></tr><tr><td class = \"rowNumber\" style = \"font-weight: bold; text-align: right;\">23</td><td style = \"text-align: right;\">8</td><td style = \"text-align: right;\">72.0</td><td style = \"text-align: right;\">0.873737</td><td style = \"text-align: left;\">キタノラブミー</td></tr><tr><td class = \"rowNumber\" style = \"font-weight: bold; text-align: right;\">24</td><td style = \"text-align: right;\">4</td><td style = \"text-align: right;\">3.5</td><td style = \"text-align: right;\">1.0</td><td style = \"text-align: left;\">リアライズオーラム</td></tr><tr><td class = \"rowNumber\" style = \"font-weight: bold; text-align: right;\">25</td><td style = \"text-align: right;\">10</td><td style = \"text-align: right;\">5.0</td><td style = \"text-align: right;\">0.792929</td><td style = \"text-align: left;\">ピエナフェーヴル</td></tr><tr><td class = \"rowNumber\" style = \"font-weight: bold; text-align: right;\">26</td><td style = \"text-align: right;\">3</td><td style = \"text-align: right;\">30.0</td><td style = \"text-align: right;\">0.939394</td><td style = \"text-align: left;\">レイデラティエラ</td></tr><tr><td class = \"rowNumber\" style = \"font-weight: bold; text-align: right;\">27</td><td style = \"text-align: right;\">6</td><td style = \"text-align: right;\">14.7</td><td style = \"text-align: right;\">0.969697</td><td style = \"text-align: left;\">スワローシチー</td></tr><tr><td class = \"rowNumber\" style = \"font-weight: bold; text-align: right;\">28</td><td style = \"text-align: right;\">1</td><td style = \"text-align: right;\">1.5</td><td style = \"text-align: right;\">0.919192</td><td style = \"text-align: left;\">グロスビーク</td></tr><tr><td class = \"rowNumber\" style = \"font-weight: bold; text-align: right;\">29</td><td style = \"text-align: right;\">7</td><td style = \"text-align: right;\">158.0</td><td style = \"text-align: right;\">0.747475</td><td style = \"text-align: left;\">ジュラ</td></tr><tr><td class = \"rowNumber\" style = \"font-weight: bold; text-align: right;\">30</td><td style = \"text-align: right;\">8</td><td style = \"text-align: right;\">64.1</td><td style = \"text-align: right;\">0.792929</td><td style = \"text-align: left;\">フィーリウス</td></tr><tr><td class = \"rowNumber\" style = \"font-weight: bold; text-align: right;\">31</td><td style = \"text-align: right;\">11</td><td style = \"text-align: right;\">315.9</td><td style = \"text-align: right;\">0.666667</td><td style = \"text-align: left;\">ユーウェイン</td></tr><tr><td class = \"rowNumber\" style = \"font-weight: bold; text-align: right;\">32</td><td style = \"text-align: right;\">9</td><td style = \"text-align: right;\">445.0</td><td style = \"text-align: right;\">0.833333</td><td style = \"text-align: left;\">チャールズテソーロ</td></tr><tr><td class = \"rowNumber\" style = \"font-weight: bold; text-align: right;\">33</td><td style = \"text-align: right;\">2</td><td style = \"text-align: right;\">60.2</td><td style = \"text-align: right;\">0.919192</td><td style = \"text-align: left;\">マイネルイグザルト</td></tr><tr><td class = \"rowNumber\" style = \"font-weight: bold; text-align: right;\">34</td><td style = \"text-align: right;\">5</td><td style = \"text-align: right;\">447.5</td><td style = \"text-align: right;\">0.666667</td><td style = \"text-align: left;\">パルファム</td></tr></tbody></table></div>"
      ],
      "text/latex": [
       "\\begin{tabular}{r|cccc}\n",
       "\t& box & odds & slit\\_score & horse\\\\\n",
       "\t\\hline\n",
       "\t& Int64 & Float64 & Float64 & String31\\\\\n",
       "\t\\hline\n",
       "\t1 & 2 & 4.7 & 1.0 & ブラウンラチェット \\\\\n",
       "\t2 & 1 & 15.6 & 0.792929 & ミストレス \\\\\n",
       "\t3 & 8 & 4.1 & 0.792929 & ショウナンザナドゥ \\\\\n",
       "\t4 & 4 & 6.6 & 0.707071 & シホリーン \\\\\n",
       "\t5 & 3 & 6.3 & 0.666667 & マイエレメント \\\\\n",
       "\t6 & 10 & 3.1 & 0.626263 & カムニャック \\\\\n",
       "\t7 & 6 & 57.9 & 0.5 & マピュース \\\\\n",
       "\t8 & 11 & 79.9 & 0.292929 & クレオズニードル \\\\\n",
       "\t9 & 5 & 13.4 & 0.126263 & ミリオンローズ \\\\\n",
       "\t10 & 9 & 217.2 & 0.040404 & ザラタン \\\\\n",
       "\t11 & 7 & 122.6 & 0.0 & キョウエイボニータ \\\\\n",
       "\t12 & 3 & 2.8 & 1.0 & クラリネットソナタ \\\\\n",
       "\t13 & 11 & 2.7 & 0.919192 & エンプレスフレーム \\\\\n",
       "\t14 & 6 & 8.6 & 0.333333 & ダカラフェスティヴ \\\\\n",
       "\t15 & 2 & 56.0 & 0.833333 & ベラヴィットーリア \\\\\n",
       "\t16 & 12 & 26.2 & 0.666667 & ライズトゥザトップ \\\\\n",
       "\t17 & 4 & 16.7 & 0.969697 & ペンテリコン \\\\\n",
       "\t18 & 10 & 10.6 & 0.792929 & ラウレア \\\\\n",
       "\t19 & 9 & 65.7 & 0.585859 & ヒルビリーエレジー \\\\\n",
       "\t20 & 1 & 270.6 & 0.792929 & フミエ \\\\\n",
       "\t21 & 7 & 5.6 & 0.873737 & ミストラルフェザー \\\\\n",
       "\t22 & 5 & 126.7 & 0.707071 & アエル \\\\\n",
       "\t23 & 8 & 72.0 & 0.873737 & キタノラブミー \\\\\n",
       "\t24 & 4 & 3.5 & 1.0 & リアライズオーラム \\\\\n",
       "\t$\\dots$ & $\\dots$ & $\\dots$ & $\\dots$ & $\\dots$ \\\\\n",
       "\\end{tabular}\n"
      ],
      "text/plain": [
       "\u001b[1m34×4 DataFrame\u001b[0m\n",
       "\u001b[1m Row \u001b[0m│\u001b[1m box   \u001b[0m\u001b[1m odds    \u001b[0m\u001b[1m slit_score \u001b[0m\u001b[1m horse              \u001b[0m\n",
       "     │\u001b[90m Int64 \u001b[0m\u001b[90m Float64 \u001b[0m\u001b[90m Float64    \u001b[0m\u001b[90m String31           \u001b[0m\n",
       "─────┼────────────────────────────────────────────────\n",
       "   1 │     2      4.7    1.0       ブラウンラチェット\n",
       "   2 │     1     15.6    0.792929  ミストレス\n",
       "   3 │     8      4.1    0.792929  ショウナンザナドゥ\n",
       "   4 │     4      6.6    0.707071  シホリーン\n",
       "   5 │     3      6.3    0.666667  マイエレメント\n",
       "   6 │    10      3.1    0.626263  カムニャック\n",
       "   7 │     6     57.9    0.5       マピュース\n",
       "   8 │    11     79.9    0.292929  クレオズニードル\n",
       "  ⋮  │   ⋮       ⋮         ⋮               ⋮\n",
       "  28 │     1      1.5    0.919192  グロスビーク\n",
       "  29 │     7    158.0    0.747475  ジュラ\n",
       "  30 │     8     64.1    0.792929  フィーリウス\n",
       "  31 │    11    315.9    0.666667  ユーウェイン\n",
       "  32 │     9    445.0    0.833333  チャールズテソーロ\n",
       "  33 │     2     60.2    0.919192  マイネルイグザルト\n",
       "  34 │     5    447.5    0.666667  パルファム\n",
       "\u001b[36m                                       19 rows omitted\u001b[0m"
      ]
     },
     "metadata": {},
     "output_type": "display_data"
    }
   ],
   "source": [
    "using CSV, DataFrames\n",
    "df = CSV.read(\"../data/race_dataset.csv\", DataFrame)"
   ]
  },
  {
   "cell_type": "code",
   "execution_count": null,
   "metadata": {},
   "outputs": [],
   "source": []
  }
 ],
 "metadata": {
  "kernelspec": {
   "display_name": "Julia 1.11.2",
   "language": "julia",
   "name": "julia-1.11"
  },
  "language_info": {
   "file_extension": ".jl",
   "mimetype": "application/julia",
   "name": "julia",
   "version": "1.11.2"
  }
 },
 "nbformat": 4,
 "nbformat_minor": 2
}
